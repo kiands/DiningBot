{
 "cells": [
  {
   "cell_type": "code",
   "execution_count": 1,
   "metadata": {},
   "outputs": [],
   "source": [
    "import pandas as pd\n",
    "import requests\n",
    "import json\n",
    "import hashlib\n",
    "import time"
   ]
  },
  {
   "cell_type": "code",
   "execution_count": 2,
   "metadata": {},
   "outputs": [],
   "source": [
    "table = pd.read_csv('table.csv')"
   ]
  },
  {
   "cell_type": "code",
   "execution_count": 3,
   "metadata": {},
   "outputs": [],
   "source": [
    "#script_df = pd.DataFrame(script)\n",
    "script_df = pd.read_csv('script.csv')"
   ]
  },
  {
   "cell_type": "code",
   "execution_count": 4,
   "metadata": {},
   "outputs": [],
   "source": [
    "dialogs = {}"
   ]
  },
  {
   "cell_type": "code",
   "execution_count": 5,
   "metadata": {},
   "outputs": [],
   "source": [
    "dialogs[1] = {'stage':0,'store_features':[]}"
   ]
  },
  {
   "cell_type": "code",
   "execution_count": 6,
   "metadata": {},
   "outputs": [],
   "source": [
    "payload1 = json.dumps({\n",
    "         'question': 'What is the price?',\n",
    "         'context': 'High price, Korean style'\n",
    "})\n",
    "res1 = json.loads(requests.post('http://163.14.137.78:1300/getAnswer',data = payload1).text)"
   ]
  },
  {
   "cell_type": "code",
   "execution_count": 7,
   "metadata": {},
   "outputs": [
    {
     "data": {
      "text/plain": [
       "{'answer': 'High price', 'end': 10, 'score': 0.5748034119606018, 'start': 0}"
      ]
     },
     "execution_count": 7,
     "metadata": {},
     "output_type": "execute_result"
    }
   ],
   "source": [
    "res1"
   ]
  },
  {
   "cell_type": "code",
   "execution_count": 8,
   "metadata": {},
   "outputs": [],
   "source": [
    "def checkType(q,uid):\n",
    "    sentences = []\n",
    "    dialogs[uid]['temp_table'] = table\n",
    "    dialogs[uid]['temp_table']['question'] = q\n",
    "    for item in dialogs[1]['temp_table']['sentence']:\n",
    "        sentences.append([q,item])\n",
    "    payload2 = json.dumps({\n",
    "         'sentences':sentences\n",
    "    })\n",
    "    # infer\n",
    "    res2 = json.loads(requests.post('http://127.0.0.1:5001/getAnswer',data = payload2).text)\n",
    "    # process\n",
    "    dialogs[uid]['result'] = []\n",
    "    dialogs[uid]['probability'] = []\n",
    "    for item in eval(res2['content']):\n",
    "        dialogs[uid]['result'].append(item[0])\n",
    "        dialogs[uid]['probability'].append(item[1])\n",
    "    dialogs[uid]['temp_table']['result'] = pd.Series(dialogs[1]['result'])\n",
    "    dialogs[uid]['temp_table']['probability'] = pd.Series(dialogs[1]['probability'])\n",
    "    # prepare to return\n",
    "    try:\n",
    "        max_fit_prob = dialogs[uid]['temp_table'][dialogs[1]['temp_table'].result == '1']['probability'].max()\n",
    "        #dialogs[uid]['temp_table'][(dialogs[1]['temp_table'].result == '1') & (dialogs[1]['temp_table'].probability == max_fit_prob)]\n",
    "        return dialogs[uid]['temp_table'][(dialogs[1]['temp_table'].result == '1') & (dialogs[1]['temp_table'].probability == max_fit_prob)].iloc[0]['meaning']\n",
    "    except:\n",
    "        return None"
   ]
  },
  {
   "cell_type": "code",
   "execution_count": 9,
   "metadata": {},
   "outputs": [],
   "source": [
    "# 語義匹配，需要威宗使用NLP來實現高級功能，return str\n",
    "def CheckInput(q):\n",
    "    return 'checked'"
   ]
  },
  {
   "cell_type": "code",
   "execution_count": 10,
   "metadata": {},
   "outputs": [],
   "source": [
    "# 檢查Context_Type，需要威宗使用NLP來實現高級功能，return str\n",
    "# def checkType(q):\n",
    "#     if q == \"你好\":\n",
    "#         return \"Greeting\"\n",
    "#     if q == \"餐廳\":\n",
    "#         return \"Shop\"\n",
    "#     if q == \"停下\":\n",
    "#         return \"Stop\""
   ]
  },
  {
   "cell_type": "code",
   "execution_count": 11,
   "metadata": {},
   "outputs": [],
   "source": [
    "# 負責最終的推薦\n",
    "def Rcmd():\n",
    "    return 'test_shop'"
   ]
  },
  {
   "cell_type": "code",
   "execution_count": 29,
   "metadata": {},
   "outputs": [],
   "source": [
    "#此方法最終只輸出一個str\n",
    "def dialog(q,uid):\n",
    "    # stage == 0\n",
    "    try:\n",
    "        # 本地變數\n",
    "        if dialogs[uid]['stage'] == 0 and checkType(q,1) == 'greeting':\n",
    "            return '歡迎回到對話！'\n",
    "        else:\n",
    "            pass\n",
    "    except:\n",
    "        # 本地變數\n",
    "        dialogs[uid] = {'stage':0,'store_features':[]}\n",
    "        return '你好，似乎是初次见面，请问需要什么帮助吗？'\n",
    "    # 檢測打招呼\n",
    "    # if stage == 0 and CheckType(q) == \"Greeting\":\n",
    "    #     session = script_df[script_df.Input == q]\n",
    "    #     return session.iloc[0]['Output']\n",
    "    # 詢問店家就這麼做\n",
    "    if dialogs[uid]['stage'] == 0 and checkType(q,uid) == \"shop\":\n",
    "        # 本地變數\n",
    "        dialogs[uid]['stage'] = 1\n",
    "        session = script_df[script_df.Input == q]\n",
    "        return session.iloc[0]['Output']\n",
    "    # stage == 1\n",
    "    # 詢問商店特徵就這麼做\n",
    "    if dialogs[uid]['stage'] == 1 and checkType(q,uid) != 'stop':\n",
    "        dialogs[uid]['store_features'].append(q)\n",
    "        return '收到！請問還要補充嗎？'\n",
    "    elif dialogs[uid]['stage'] == 1 and checkType(q,uid) == 'stop':\n",
    "        dialogs[uid]['stage'] = 2\n",
    "        return 'OK，現在幫你推薦！'\n",
    "    else:\n",
    "        pass\n",
    "    # stage == 2\n",
    "    if dialogs[uid]['stage'] == 2:\n",
    "        return '不好意思，請問想重新推薦嗎？'"
   ]
  },
  {
   "cell_type": "code",
   "execution_count": 30,
   "metadata": {},
   "outputs": [
    {
     "data": {
      "text/plain": [
       "{1: {'stage': 0, 'store_features': []}}"
      ]
     },
     "execution_count": 30,
     "metadata": {},
     "output_type": "execute_result"
    }
   ],
   "source": [
    "dialogs"
   ]
  },
  {
   "cell_type": "code",
   "execution_count": 31,
   "metadata": {},
   "outputs": [
    {
     "name": "stdout",
     "output_type": "stream",
     "text": [
      "歡迎回到對話！\n"
     ]
    }
   ],
   "source": [
    "print(dialog('你好',1))"
   ]
  },
  {
   "cell_type": "code",
   "execution_count": 32,
   "metadata": {},
   "outputs": [
    {
     "name": "stdout",
     "output_type": "stream",
     "text": [
      "你好，請問想要如何了解餐廳：您可以說說價格高低、餐點類型之類的\n"
     ]
    }
   ],
   "source": [
    "print(dialog('餐廳',1))"
   ]
  },
  {
   "cell_type": "code",
   "execution_count": 33,
   "metadata": {},
   "outputs": [
    {
     "name": "stdout",
     "output_type": "stream",
     "text": [
      "收到！請問還要補充嗎？\n"
     ]
    }
   ],
   "source": [
    "print(dialog('高價',1))"
   ]
  },
  {
   "cell_type": "code",
   "execution_count": 34,
   "metadata": {},
   "outputs": [
    {
     "name": "stdout",
     "output_type": "stream",
     "text": [
      "收到！請問還要補充嗎？\n"
     ]
    }
   ],
   "source": [
    "print(dialog('韓式',1))"
   ]
  },
  {
   "cell_type": "code",
   "execution_count": 35,
   "metadata": {},
   "outputs": [
    {
     "name": "stdout",
     "output_type": "stream",
     "text": [
      "OK，現在幫你推薦！\n"
     ]
    }
   ],
   "source": [
    "print(dialog('停下',1))"
   ]
  },
  {
   "cell_type": "code",
   "execution_count": 37,
   "metadata": {},
   "outputs": [
    {
     "name": "stdout",
     "output_type": "stream",
     "text": [
      "不好意思，請問想重新推薦嗎？\n"
     ]
    }
   ],
   "source": [
    "print(dialog('等一下',1))"
   ]
  },
  {
   "cell_type": "code",
   "execution_count": null,
   "metadata": {},
   "outputs": [],
   "source": [
    "def translate_z2e(query):\n",
    "    appid = '20220102001044938'\n",
    "    q = query\n",
    "    salt='123456'\n",
    "    key = '4i3lYa4aSyuH2TCcmaBh'\n",
    "    mid = appid + q + salt + key\n",
    "    hl = hashlib.md5()\n",
    "    hl.update(mid.encode(encoding='utf-8'))\n",
    "    sign = hl.hexdigest()\n",
    "    url = f'https://api.fanyi.baidu.com/api/trans/vip/translate?q={q}&from=zh&to=en&appid={appid}&salt={salt}&sign={sign}'\n",
    "    return eval(requests.get(url).text)['trans_result'][0]['dst']"
   ]
  },
  {
   "cell_type": "code",
   "execution_count": null,
   "metadata": {},
   "outputs": [],
   "source": [
    "def translate_e2z(query):\n",
    "    appid = '20220102001044938'\n",
    "    q = query\n",
    "    salt='123456'\n",
    "    key = '4i3lYa4aSyuH2TCcmaBh'\n",
    "    mid = appid + q + salt + key\n",
    "    hl = hashlib.md5()\n",
    "    hl.update(mid.encode(encoding='utf-8'))\n",
    "    sign = hl.hexdigest()\n",
    "    url = f'https://api.fanyi.baidu.com/api/trans/vip/translate?q={q}&from=en&to=zh&appid={appid}&salt={salt}&sign={sign}'\n",
    "    return eval(requests.get(url).text)['trans_result'][0]['dst']"
   ]
  }
 ],
 "metadata": {
  "kernelspec": {
   "display_name": "Python 3",
   "language": "python",
   "name": "python3"
  },
  "language_info": {
   "codemirror_mode": {
    "name": "ipython",
    "version": 3
   },
   "file_extension": ".py",
   "mimetype": "text/x-python",
   "name": "python",
   "nbconvert_exporter": "python",
   "pygments_lexer": "ipython3",
   "version": "3.8.8"
  }
 },
 "nbformat": 4,
 "nbformat_minor": 4
}
