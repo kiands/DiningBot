{
 "cells": [
  {
   "cell_type": "code",
   "execution_count": 1,
   "metadata": {},
   "outputs": [],
   "source": [
    "import pandas as pd\n",
    "import requests\n",
    "import json\n",
    "import hashlib"
   ]
  },
  {
   "cell_type": "code",
   "execution_count": 2,
   "metadata": {},
   "outputs": [],
   "source": [
    "payload1 = json.dumps({\n",
    "         'question': 'What is the price?',\n",
    "         'context': 'High price, Korean style'\n",
    "})\n",
    "res1 = json.loads(requests.post('http://163.14.137.78:1300/getAnswer',data = payload1).text)"
   ]
  },
  {
   "cell_type": "code",
   "execution_count": 3,
   "metadata": {},
   "outputs": [
    {
     "data": {
      "text/plain": [
       "{'answer': 'High price', 'end': 10, 'score': 0.5748034119606018, 'start': 0}"
      ]
     },
     "execution_count": 3,
     "metadata": {},
     "output_type": "execute_result"
    }
   ],
   "source": [
    "res1"
   ]
  },
  {
   "cell_type": "code",
   "execution_count": 11,
   "metadata": {},
   "outputs": [
    {
     "name": "stdout",
     "output_type": "stream",
     "text": [
      "{'content': \"[['0', 0.59274155], ['1', 0.9808791]]\"}\n"
     ]
    }
   ],
   "source": [
    "payload2 = json.dumps({\n",
    "         'sentences':[['','好的'],['还在吗','请问还在吗']]\n",
    "})\n",
    "res2 = json.loads(requests.post('http://127.0.0.1:5001/getAnswer',data = payload2).text)\n",
    "print(res2)"
   ]
  },
  {
   "cell_type": "code",
   "execution_count": 4,
   "metadata": {},
   "outputs": [],
   "source": [
    "# script = {\"Stage\":[],\"ID\":[],\"Input\":[],\"Output\":[],\"Context_Type\":[]}"
   ]
  },
  {
   "cell_type": "code",
   "execution_count": 5,
   "metadata": {},
   "outputs": [],
   "source": [
    "#script_df = pd.DataFrame(script)\n",
    "script_df = pd.read_csv('script.csv')"
   ]
  },
  {
   "cell_type": "code",
   "execution_count": 6,
   "metadata": {},
   "outputs": [],
   "source": [
    "# script_df.to_csv('script.csv',index=False)"
   ]
  },
  {
   "cell_type": "code",
   "execution_count": null,
   "metadata": {},
   "outputs": [],
   "source": [
    "dialogs = {}"
   ]
  },
  {
   "cell_type": "code",
   "execution_count": 8,
   "metadata": {},
   "outputs": [],
   "source": [
    "# 語義匹配，需要威宗使用NLP來實現高級功能，return str\n",
    "def CheckInput(q):\n",
    "    return 'checked'"
   ]
  },
  {
   "cell_type": "code",
   "execution_count": 9,
   "metadata": {},
   "outputs": [],
   "source": [
    "# 檢查Context_Type，需要威宗使用NLP來實現高級功能，return str\n",
    "def CheckType(q):\n",
    "    if q == \"你好\":\n",
    "        return \"Greeting\"\n",
    "    if q == \"餐廳\":\n",
    "        return \"Shop\"\n",
    "    if q == \"停下\":\n",
    "        return \"Stop\""
   ]
  },
  {
   "cell_type": "code",
   "execution_count": 10,
   "metadata": {},
   "outputs": [],
   "source": [
    "# 負責最終的推薦\n",
    "def Rcmd():\n",
    "    return 'test_shop'"
   ]
  },
  {
   "cell_type": "code",
   "execution_count": 11,
   "metadata": {},
   "outputs": [],
   "source": [
    "#此方法最終只輸出一個str\n",
    "def dialog(q,uid):\n",
    "    try:\n",
    "        current_dialog = dialogs[uid]\n",
    "    except:\n",
    "        dialogs[uid] = {'stage':0,'store_features':[]}\n",
    "        return '你好，似乎是初次见面，请问需要什么帮助吗？'\n",
    "    # 檢測打招呼\n",
    "    # if stage == 0 and CheckType(q) == \"Greeting\":\n",
    "    #     session = script_df[script_df.Input == q]\n",
    "    #     return session.iloc[0]['Output']\n",
    "    # 詢問店家就這麼做\n",
    "    if CheckType(q) == \"Shop\":\n",
    "        current_dialog['stage'] = 1\n",
    "        session = script_df[script_df.Input == q]\n",
    "        return session.iloc[0]['Output']\n",
    "    # 詢問商店特徵就這麼做\n",
    "    if current_dialog['stage'] == 1 and CheckType(q) != 'Stop':\n",
    "        # 先寫入商店特徵\n",
    "        current_dialog['store_features'].append(q)\n",
    "        return '收到！請問還要補充嗎？'\n",
    "    if current_dialog['stage'] == 1 and CheckType(q) == 'Stop':\n",
    "        # 先寫入商店特徵\n",
    "        current_dialog['stage'] = 2\n",
    "        return 'OK，現在幫你推薦！'\n",
    "    if current_dialog['stage'] == 2:\n",
    "        return '不好意思，請問想重新推薦嗎？'"
   ]
  },
  {
   "cell_type": "code",
   "execution_count": 12,
   "metadata": {},
   "outputs": [
    {
     "data": {
      "text/plain": [
       "'你好，請問需要什麼幫助：餐廳or餐點？'"
      ]
     },
     "execution_count": 12,
     "metadata": {},
     "output_type": "execute_result"
    }
   ],
   "source": [
    "# dialog('你好')\n",
    "# dialog('餐廳')\n",
    "# dialog('高價')\n",
    "# dialog('韓式')\n",
    "# dialog('停下')"
   ]
  },
  {
   "cell_type": "code",
   "execution_count": 17,
   "metadata": {},
   "outputs": [],
   "source": [
    "def translate_z2e(query):\n",
    "    appid = '20220102001044938'\n",
    "    q = query\n",
    "    salt='123456'\n",
    "    key = '4i3lYa4aSyuH2TCcmaBh'\n",
    "    mid = appid + q + salt + key\n",
    "    hl = hashlib.md5()\n",
    "    hl.update(mid.encode(encoding='utf-8'))\n",
    "    sign = hl.hexdigest()\n",
    "    url = f'https://api.fanyi.baidu.com/api/trans/vip/translate?q={q}&from=zh&to=en&appid={appid}&salt={salt}&sign={sign}'\n",
    "    return eval(requests.get(url).text)['trans_result'][0]['dst']"
   ]
  },
  {
   "cell_type": "code",
   "execution_count": 18,
   "metadata": {},
   "outputs": [],
   "source": [
    "def translate_e2z(query):\n",
    "    appid = '20220102001044938'\n",
    "    q = query\n",
    "    salt='123456'\n",
    "    key = '4i3lYa4aSyuH2TCcmaBh'\n",
    "    mid = appid + q + salt + key\n",
    "    hl = hashlib.md5()\n",
    "    hl.update(mid.encode(encoding='utf-8'))\n",
    "    sign = hl.hexdigest()\n",
    "    url = f'https://api.fanyi.baidu.com/api/trans/vip/translate?q={q}&from=en&to=zh&appid={appid}&salt={salt}&sign={sign}'\n",
    "    return eval(requests.get(url).text)['trans_result'][0]['dst']"
   ]
  }
 ],
 "metadata": {
  "kernelspec": {
   "display_name": "Python 3 (ipykernel)",
   "language": "python",
   "name": "python3"
  },
  "language_info": {
   "codemirror_mode": {
    "name": "ipython",
    "version": 3
   },
   "file_extension": ".py",
   "mimetype": "text/x-python",
   "name": "python",
   "nbconvert_exporter": "python",
   "pygments_lexer": "ipython3",
   "version": "3.9.7"
  }
 },
 "nbformat": 4,
 "nbformat_minor": 4
}
